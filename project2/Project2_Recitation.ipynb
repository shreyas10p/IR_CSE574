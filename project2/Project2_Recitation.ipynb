{
  "nbformat": 4,
  "nbformat_minor": 0,
  "metadata": {
    "colab": {
      "name": "Project2_Recitation.ipynb",
      "provenance": [],
      "toc_visible": true
    },
    "kernelspec": {
      "name": "python3",
      "display_name": "Python 3"
    }
  },
  "cells": [
    {
      "cell_type": "markdown",
      "metadata": {
        "id": "K5eqaIJ1XCBR"
      },
      "source": [
        "# **CSE 435/535 Project 2 Recitation**\n",
        "\n"
      ]
    },
    {
      "cell_type": "markdown",
      "metadata": {
        "id": "rP43qOOOXKBv"
      },
      "source": [
        "## Announcements & Reminders\n",
        "\n",
        "\n",
        "1.   Project 2 dry run: **19th October 2020, 11:59 PM EST**\n",
        "2.   Automated grader script will start at **12:00 AM EST**\n",
        "3.   **No regrading request** will be entertained in case of late submission\n",
        "4.   Do avail this opportunity of getting feedback before the final submission\n",
        "5.   Project 2 submission due date: **21st October 2020, 11:59 PM EST**\n",
        "6.   You **can use NLTK** for stemming & stopword removal\n",
        "\n",
        "\n",
        "\n",
        "\n",
        "\n"
      ]
    },
    {
      "cell_type": "markdown",
      "metadata": {
        "id": "24SrOzVfXKEO"
      },
      "source": [
        "## Preprocessing examples\n",
        "###Example 1###\n",
        "\n",
        "**Doc id**: 38604\t\n",
        "\n",
        "**Doc text**: Management of ophthalmic perioperative period during 2019 novel coronavirus disease outbreak/ 新型冠状病毒肺炎疫情下眼科患者围手术期管理实践\n",
        "\n",
        "**Doc tokens**: ['manag', 'ophthalm', 'periop', 'period', '2019', 'novel', 'coronaviru', 'diseas', 'outbreak']\n"
      ]
    },
    {
      "cell_type": "markdown",
      "metadata": {
        "id": "ryyuMYoLXKGv"
      },
      "source": [
        "\n",
        "###Example 2###\n",
        "**Doc id**: 8413\t\n",
        "\n",
        "**Doc text**: \"Tomar o no tomar «decisiones en caliente¼ respecto al tratamiento de la infección por SARS-CoV-2./ [Whether to make decisions \"\"on the fly\"\" regarding treatment for SARS-CoV-2 infection]\"\n",
        "\n",
        "**Doc tokens**: ['tomar', 'tomar', 'decision', 'en', 'calient', 'respecto', 'al', 'tratamiento', 'de', 'la', 'infecci', 'n', 'por', 'sar', 'cov', '2', 'whether', 'make', 'decis', 'fli', 'regard', 'treatment', 'sar', 'cov', '2', 'infect']\n"
      ]
    },
    {
      "cell_type": "markdown",
      "metadata": {
        "id": "myDZFmKdYFkf"
      },
      "source": [
        "\n",
        "###Example 3###\n",
        "**Doc id**: 55745\t\n",
        "\n",
        "**Doc text**: \"Aufgaben und Funktion der Ständigen Arbeitsgemeinschaft der Kompetenz- und Behandlungszentren für hochkontagiöse, lebensbedrohliche Erkrankungen\"\n",
        "\n",
        "**Doc tokens**: ['aufgaben', 'und', 'funktion', 'der', 'st', 'ndigen', 'arbeitsgemeinschaft', 'der', 'kompetenz', 'und', 'behandlungszentren', 'f', 'r', 'hochkontagi', 'se', 'lebensbedrohlich', 'erkrankungen']\n"
      ]
    },
    {
      "cell_type": "markdown",
      "metadata": {
        "id": "p7su7VMDYUic"
      },
      "source": [
        "# Linked Lists for creating Postings lists in Python 3"
      ]
    },
    {
      "cell_type": "markdown",
      "metadata": {
        "id": "54zhX1tDYFmr"
      },
      "source": [
        "![image.png](data:image/png;base64,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)"
      ]
    },
    {
      "cell_type": "markdown",
      "metadata": {
        "id": "kc6PEzqsYiar"
      },
      "source": [
        "### Why bother with linked lists?\n",
        "\n",
        "1. **Efficiency**: Faster inserts. Contigious memory not required. \n",
        "2. **Control**: Each node in the linked list can be a complex data structure. Nested linked lists.\n",
        "3. **Learning**: Desired from a learning point of view, where you can get a feel of the considerations to keep in mind, and the bottlenecks while creating postings lists.\n",
        "\n",
        "Reference:https://www.quora.com/What-is-the-purpose-of-using-a-linked-list-in-Python"
      ]
    },
    {
      "cell_type": "markdown",
      "metadata": {
        "id": "9P1frguFYidi"
      },
      "source": [
        "### Linked List Demonstration"
      ]
    },
    {
      "cell_type": "code",
      "metadata": {
        "id": "f2NeZGrtbBte"
      },
      "source": [
        "# The data structure for every element in the linked list. \n",
        "class Node:\n",
        "    def __init__(self, value = None, next = None):\n",
        "        self.value = value\n",
        "        self.next = next"
      ],
      "execution_count": 6,
      "outputs": []
    },
    {
      "cell_type": "code",
      "metadata": {
        "id": "a0PtCy7YXCV9"
      },
      "source": [
        "#The linked list\n",
        "class LinkedList:\n",
        "\n",
        "    def __init__(self, index=0, mode=\"simple\"):\n",
        "        self.start_node = None # Head pointer\n",
        "        self.end_node = None # Tail pointer\n",
        "        # Additional attributes\n",
        "        self.index = index \n",
        "        self.mode = \"simple\"\n",
        "\n",
        "    # Method to traverse a created linked list\n",
        "    def traverse_list(self):\n",
        "        traversal = []\n",
        "        if self.start_node is None:\n",
        "            print(\"List has no element\")\n",
        "            return\n",
        "        else:\n",
        "            n = self.start_node\n",
        "            # Start traversal from head, and go on till you reach None\n",
        "            while n is not None:\n",
        "                traversal.append(n.value)\n",
        "                n = n.next\n",
        "            return traversal\n",
        "\n",
        "    # Method to insert elements in the linked list\n",
        "    def insert_at_end(self, value):\n",
        "        # determine data type of the value\n",
        "        if 'list' in str(type(value)):\n",
        "            self.mode = \"list\"\n",
        "\n",
        "        # Initialze a linked list element of type \"Node\" \n",
        "        new_node = Node(value)\n",
        "        n = self.start_node # Head pointer\n",
        "\n",
        "        # If linked list is empty, insert element at head\n",
        "        if self.start_node is None:\n",
        "            self.start_node = new_node\n",
        "            self.end_node = new_node\n",
        "            return \"Inserted\"\n",
        "        \n",
        "        elif self.mode == \"list\":\n",
        "            if self.start_node.value[self.index] >= value[self.index]:\n",
        "                self.start_node = new_node\n",
        "                self.start_node.next = n\n",
        "                return \"Inserted\"\n",
        "\n",
        "            elif self.end_node.value[self.index] <= value[self.index]:\n",
        "                self.end_node.next = new_node\n",
        "                self.end_node = new_node\n",
        "                return \"Inserted\"\n",
        "\n",
        "            else:\n",
        "                while value[self.index] > n.value[self.index] and value[self.index] < self.end_node.value[self.index] and n.next is not None:\n",
        "                    n = n.next\n",
        "\n",
        "                m = self.start_node\n",
        "                while m.next != n and m.next is not None:\n",
        "                    m = m.next\n",
        "                m.next = new_node\n",
        "                new_node.next = n\n",
        "                return \"Inserted\"\n",
        "        else:\n",
        "            # If element to be inserted has lower value than head, insert new element at head\n",
        "            if self.start_node.value >= value:\n",
        "                self.start_node = new_node\n",
        "                self.start_node.next = n\n",
        "                return \"Inserted\"\n",
        "\n",
        "            # If element to be inserted has higher value than tail, insert new element at tail\n",
        "            elif self.end_node.value <= value:\n",
        "                self.end_node.next = new_node\n",
        "                self.end_node = new_node\n",
        "                return \"Inserted\"\n",
        "\n",
        "            # If element to be inserted lies between head & tail, find the appropriate position to insert it\n",
        "            else:\n",
        "                while value > n.value and value < self.end_node.value and n.next is not None:\n",
        "                    n = n.next\n",
        "\n",
        "                m = self.start_node\n",
        "                while m.next != n and m.next is not None:\n",
        "                    m = m.next\n",
        "                m.next = new_node\n",
        "                new_node.next = n\n",
        "                return \"Inserted\"\n"
      ],
      "execution_count": 2,
      "outputs": []
    },
    {
      "cell_type": "markdown",
      "metadata": {
        "id": "z-rasWXodPCB"
      },
      "source": [
        "### Linked list of integers"
      ]
    },
    {
      "cell_type": "code",
      "metadata": {
        "id": "6UxGWLljdCTR",
        "outputId": "fe80d8ab-7f77-45d0-e185-2d70797a3024",
        "colab": {
          "base_uri": "https://localhost:8080/",
          "height": 34
        }
      },
      "source": [
        "linked_list = LinkedList() #Initialize\n",
        "print(linked_list)"
      ],
      "execution_count": 7,
      "outputs": [
        {
          "output_type": "stream",
          "text": [
            "<__main__.LinkedList object at 0x7f241a4ecf60>\n"
          ],
          "name": "stdout"
        }
      ]
    },
    {
      "cell_type": "code",
      "metadata": {
        "id": "lS7r7MyCdXJF",
        "outputId": "1ca88711-2056-4fb4-fe71-811a0a788b3d",
        "colab": {
          "base_uri": "https://localhost:8080/",
          "height": 34
        }
      },
      "source": [
        "#The list is empty\n",
        "linked_list.traverse_list()"
      ],
      "execution_count": 8,
      "outputs": [
        {
          "output_type": "stream",
          "text": [
            "List has no element\n"
          ],
          "name": "stdout"
        }
      ]
    },
    {
      "cell_type": "code",
      "metadata": {
        "id": "tXazYUIrdaPV",
        "outputId": "17c7bfa9-5d19-4431-bd0a-941d4b293da6",
        "colab": {
          "base_uri": "https://localhost:8080/",
          "height": 34
        }
      },
      "source": [
        "#Insert one integer in the list\n",
        "linked_list.insert_at_end(33)\n",
        "linked_list.traverse_list()"
      ],
      "execution_count": 9,
      "outputs": [
        {
          "output_type": "execute_result",
          "data": {
            "text/plain": [
              "[33]"
            ]
          },
          "metadata": {
            "tags": []
          },
          "execution_count": 9
        }
      ]
    },
    {
      "cell_type": "code",
      "metadata": {
        "id": "-aB81NW6dgbF",
        "outputId": "d46138a7-9ff2-4d40-dfec-76f51b2ec0a6",
        "colab": {
          "base_uri": "https://localhost:8080/",
          "height": 34
        }
      },
      "source": [
        "#Note how start_node & end_node have same memory location\n",
        "linked_list.start_node, linked_list.end_node"
      ],
      "execution_count": 10,
      "outputs": [
        {
          "output_type": "execute_result",
          "data": {
            "text/plain": [
              "(<__main__.Node at 0x7f241a5021d0>, <__main__.Node at 0x7f241a5021d0>)"
            ]
          },
          "metadata": {
            "tags": []
          },
          "execution_count": 10
        }
      ]
    },
    {
      "cell_type": "code",
      "metadata": {
        "id": "XIJ8nE7ddjS9",
        "outputId": "939bad0d-c4c7-48ca-d8c9-7d1edcb396dc",
        "colab": {
          "base_uri": "https://localhost:8080/",
          "height": 34
        }
      },
      "source": [
        "#Let's insert a few more elements\n",
        "[linked_list.insert_at_end(i) for i in [42, 111, 13, 29, 7, -11]]"
      ],
      "execution_count": 11,
      "outputs": [
        {
          "output_type": "execute_result",
          "data": {
            "text/plain": [
              "['Inserted', 'Inserted', 'Inserted', 'Inserted', 'Inserted', 'Inserted']"
            ]
          },
          "metadata": {
            "tags": []
          },
          "execution_count": 11
        }
      ]
    },
    {
      "cell_type": "code",
      "metadata": {
        "id": "e3cvh85ydpnm",
        "outputId": "ba134717-2fd4-4acc-9487-6fbe3d2cac1d",
        "colab": {
          "base_uri": "https://localhost:8080/",
          "height": 34
        }
      },
      "source": [
        "#Already sorted!\n",
        "linked_list.traverse_list()"
      ],
      "execution_count": 12,
      "outputs": [
        {
          "output_type": "execute_result",
          "data": {
            "text/plain": [
              "[-11, 7, 13, 29, 33, 42, 111]"
            ]
          },
          "metadata": {
            "tags": []
          },
          "execution_count": 12
        }
      ]
    },
    {
      "cell_type": "code",
      "metadata": {
        "id": "TqQkLNkpdsiV",
        "outputId": "5ac6a491-7110-4940-eded-9671b2052aba",
        "colab": {
          "base_uri": "https://localhost:8080/",
          "height": 34
        }
      },
      "source": [
        "#Note how start_node & end_node refer to different locations now\n",
        "linked_list.start_node, linked_list.end_node"
      ],
      "execution_count": 13,
      "outputs": [
        {
          "output_type": "execute_result",
          "data": {
            "text/plain": [
              "(<__main__.Node at 0x7f241a5025c0>, <__main__.Node at 0x7f241a502438>)"
            ]
          },
          "metadata": {
            "tags": []
          },
          "execution_count": 13
        }
      ]
    },
    {
      "cell_type": "code",
      "metadata": {
        "id": "aYK-g9ISeyIV",
        "outputId": "a5fae527-a0b8-4fa3-acb3-deae6028cf7c",
        "colab": {
          "base_uri": "https://localhost:8080/",
          "height": 34
        }
      },
      "source": [
        "print(\"Mode :\",linked_list.mode,\",\", \"Index :\",linked_list.index)"
      ],
      "execution_count": 14,
      "outputs": [
        {
          "output_type": "stream",
          "text": [
            "Mode : simple , Index : 0\n"
          ],
          "name": "stdout"
        }
      ]
    },
    {
      "cell_type": "markdown",
      "metadata": {
        "id": "-VQ_NUcpd9Yr"
      },
      "source": [
        "### Linked list of lists"
      ]
    },
    {
      "cell_type": "code",
      "metadata": {
        "id": "A5IhqPyBd18T"
      },
      "source": [
        "linked_list2 = LinkedList(index = 1)\n",
        "\n",
        "#Student -> age, name, marks\n",
        "student1 = [22, 'Max', 87]\n",
        "student2 = [26, 'Alice', 77]\n",
        "student3 = [21, 'Bob', 95]\n",
        "student4 = [23, 'Kenny', 100]\n",
        "student5 = [22, 'Keith', 78]"
      ],
      "execution_count": 20,
      "outputs": []
    },
    {
      "cell_type": "code",
      "metadata": {
        "id": "R1TNvcRheIOP",
        "outputId": "778c089c-6897-4576-9b38-03454d46b86b",
        "colab": {
          "base_uri": "https://localhost:8080/",
          "height": 34
        }
      },
      "source": [
        "print(\"Mode :\",linked_list2.mode,\",\", \"Index :\",linked_list2.index)"
      ],
      "execution_count": 21,
      "outputs": [
        {
          "output_type": "stream",
          "text": [
            "Mode : simple , Index : 1\n"
          ],
          "name": "stdout"
        }
      ]
    },
    {
      "cell_type": "code",
      "metadata": {
        "id": "AhADboGGeLt3",
        "outputId": "821672eb-e3e1-40e4-bd08-8c99acbf7522",
        "colab": {
          "base_uri": "https://localhost:8080/",
          "height": 34
        }
      },
      "source": [
        "#Let's insert the elements\n",
        "[linked_list2.insert_at_end(i) for i in [student1, student2, student3, student4, student5]]"
      ],
      "execution_count": 22,
      "outputs": [
        {
          "output_type": "execute_result",
          "data": {
            "text/plain": [
              "['Inserted', 'Inserted', 'Inserted', 'Inserted', 'Inserted']"
            ]
          },
          "metadata": {
            "tags": []
          },
          "execution_count": 22
        }
      ]
    },
    {
      "cell_type": "code",
      "metadata": {
        "id": "xuy7aHDOebAI",
        "outputId": "87ed2938-6c34-4608-a30c-bf743373efbf",
        "colab": {
          "base_uri": "https://localhost:8080/",
          "height": 102
        }
      },
      "source": [
        "#Already sorted by index 0: age !\n",
        "linked_list2.traverse_list()"
      ],
      "execution_count": 23,
      "outputs": [
        {
          "output_type": "execute_result",
          "data": {
            "text/plain": [
              "[[26, 'Alice', 77],\n",
              " [21, 'Bob', 95],\n",
              " [22, 'Keith', 78],\n",
              " [23, 'Kenny', 100],\n",
              " [22, 'Max', 87]]"
            ]
          },
          "metadata": {
            "tags": []
          },
          "execution_count": 23
        }
      ]
    },
    {
      "cell_type": "code",
      "metadata": {
        "id": "UhjW4cYlefO5",
        "outputId": "7f3d4802-0b15-4aca-c6bf-35a89b8f1518",
        "colab": {
          "base_uri": "https://localhost:8080/",
          "height": 35
        }
      },
      "source": [
        "# Data type is detected during insertion and set to appropriate mode\n",
        "linked_list2.mode"
      ],
      "execution_count": 24,
      "outputs": [
        {
          "output_type": "execute_result",
          "data": {
            "application/vnd.google.colaboratory.intrinsic+json": {
              "type": "string"
            },
            "text/plain": [
              "'list'"
            ]
          },
          "metadata": {
            "tags": []
          },
          "execution_count": 24
        }
      ]
    },
    {
      "cell_type": "code",
      "metadata": {
        "id": "joRPwJ8ben1R"
      },
      "source": [
        ""
      ],
      "execution_count": null,
      "outputs": []
    }
  ]
}